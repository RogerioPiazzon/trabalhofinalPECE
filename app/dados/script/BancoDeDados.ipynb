{
  "cells": [
    {
      "cell_type": "code",
      "execution_count": 1,
      "metadata": {},
      "outputs": [],
      "source": [
        "import pandas as pd\n",
        "import numpy as np\n",
        "import sqlite3\n",
        "import os\n",
        "import glob\n",
        "from datetime import datetime\n",
        "from IPython.display import clear_output\n",
        "\n",
        "!pip freeze > requirements.txt\n"
      ]
    },
    {
      "cell_type": "code",
      "execution_count": 2,
      "metadata": {},
      "outputs": [],
      "source": [
        "def app_log(nv,msg):\n",
        "    print(\" \"*nv + \"[{}] INFO - {}\".format(datetime.now().strftime(\"%d/%m/%Y %H:%M:%S\"),msg))\n",
        "    "
      ]
    },
    {
      "cell_type": "code",
      "execution_count": 3,
      "metadata": {},
      "outputs": [
        {
          "name": "stdout",
          "output_type": "stream",
          "text": [
            "[22/01/2024 23:48:42] INFO - Limpando ambiente\n",
            "[22/01/2024 23:48:42] INFO - Criando banco de dados\n",
            "[22/01/2024 23:48:42] INFO - Criando tabelas no banco de dados\n"
          ]
        }
      ],
      "source": [
        "\n",
        "app_log(0,\"Limpando ambiente\")\n",
        "\n",
        "if not os.path.exists(\"database\\db\"):\n",
        "    os.makedirs(\"database\\db\")\n",
        "\n",
        "if os.path.exists(\"database\\db\\dbo.db\"):\n",
        "  os.remove(\"database\\db\\dbo.db\")\n",
        "\n",
        "app_log(0,\"Criando banco de dados\")\n",
        "conn = sqlite3.connect(\"database\\db\\dbo.db\")\n",
        "conn.execute(\"ATTACH DATABASE 'database\\db\\dbo.db' AS 'dbo';\")\n",
        "cur  = conn.cursor()\n",
        "\n",
        "app_log(0,\"Criando tabelas no banco de dados\")\n",
        "sql_file = open(r\"database\\ddl\\create_tables.sql\",encoding=\"ISO-8859-1\")\n",
        "sql_as_string = sql_file.read()\n",
        "sql_file.close()\n",
        "cur.executescript(sql_as_string)\n",
        "\n",
        "conn.commit()\n",
        "conn.close()\n"
      ]
    },
    {
      "cell_type": "code",
      "execution_count": 4,
      "metadata": {},
      "outputs": [
        {
          "name": "stdout",
          "output_type": "stream",
          "text": [
            "[22/01/2024 23:48:42] INFO - Carga de dados no banco de dados\n",
            " [22/01/2024 23:48:42] INFO - Tabelas Dimensao \n",
            "  [22/01/2024 23:48:42] INFO - Carregando DimAccount - 99 linhas\n",
            "  [22/01/2024 23:48:42] INFO - Carregando DimCurrency - 105 linhas\n",
            "  [22/01/2024 23:48:43] INFO - Carregando DimCustomer - 18484 linhas\n",
            "  [22/01/2024 23:48:43] INFO - Carregando DimDate - 3652 linhas\n",
            "  [22/01/2024 23:48:43] INFO - Carregando DimDepartmentGroup - 7 linhas\n",
            "  [22/01/2024 23:48:43] INFO - Carregando DimEmployee - 296 linhas\n",
            "  [22/01/2024 23:48:43] INFO - Carregando DimGeography - 655 linhas\n",
            "  [22/01/2024 23:48:44] INFO - Carregando DimOrganization - 14 linhas\n",
            "  [22/01/2024 23:48:44] INFO - Carregando DimProduct - 277 linhas\n",
            "  [22/01/2024 23:48:44] INFO - Carregando DimProductCategory - 4 linhas\n",
            "  [22/01/2024 23:48:44] INFO - Carregando DimProductSubcategory - 37 linhas\n",
            "  [22/01/2024 23:48:44] INFO - Carregando DimPromotion - 16 linhas\n",
            "  [22/01/2024 23:48:44] INFO - Carregando DimReseller - 701 linhas\n",
            "  [22/01/2024 23:48:44] INFO - Carregando DimSalesReason - 10 linhas\n",
            "  [22/01/2024 23:48:44] INFO - Carregando DimSalesTerritory - 10 linhas\n",
            "  [22/01/2024 23:48:44] INFO - Carregando DimScenario - 3 linhas\n",
            " [22/01/2024 23:48:44] INFO - Tabelas Fato\n",
            "  [22/01/2024 23:48:44] INFO - Carregando FactAdditionalInternationalProductDescription - 15168 linhas\n",
            "  [22/01/2024 23:48:44] INFO - Carregando FactCallCenter - 120 linhas\n",
            "  [22/01/2024 23:48:44] INFO - Carregando FactCurrencyRate - 14264 linhas\n",
            "  [22/01/2024 23:48:44] INFO - Carregando FactFinance - 39409 linhas\n",
            "  [22/01/2024 23:48:45] INFO - Carregando FactInternetSales - 60398 linhas\n",
            "  [22/01/2024 23:48:45] INFO - Carregando FactInternetSalesReason - 64515 linhas\n",
            "  [22/01/2024 23:48:47] INFO - Carregando FactProductInventory - 776286 linhas\n",
            "  [22/01/2024 23:48:49] INFO - Carregando FactResellerSales - 60855 linhas\n",
            "  [22/01/2024 23:48:50] INFO - Carregando FactSalesQuota - 163 linhas\n",
            "  [22/01/2024 23:48:50] INFO - Carregando FactSurveyResponse - 2727 linhas\n",
            "  [22/01/2024 23:48:50] INFO - Carregando NewFactCurrencyRate - 50 linhas\n",
            " [22/01/2024 23:48:50] INFO - Demais Tabelas \n",
            "  [22/01/2024 23:48:50] INFO - Carregando DatabaseLog - 2412 linhas\n",
            "  [22/01/2024 23:48:50] INFO - Carregando ProspectiveBuyer - 2059 linhas\n",
            "  [22/01/2024 23:48:50] INFO - Carregando sysdiagrams - 9 linhas\n"
          ]
        }
      ],
      "source": [
        "conn = sqlite3.connect(\"database\\db\\dbo.db\")\n",
        "dir_list = glob.glob('data/*.csv')\n",
        "app_log(0,\"Carga de dados no banco de dados\")\n",
        "app_log(1,\"Tabelas Dimensao \")\n",
        "for arq in filter(lambda file: \"Dim\" in file,dir_list):\n",
        "    cursor = conn.execute(\"select * from {}\".format(arq[5:-4]))\n",
        "    colunas = [description[0] for description in cursor.description]\n",
        "    columnsQuery = cursor.execute(f\"pragma table_info('{arq[5:-4]}')\")\n",
        "    columnInfos = cursor.fetchall()\n",
        "    columnsNotNull = [item[1] for item in columnInfos if item[3] == 1]\n",
        "\n",
        "    df = pd.read_csv(arq,sep=\"|\",\n",
        "                     encoding=\"utf16\",header=None,names=colunas,lineterminator ='\\n')\n",
        "    for col in columnsNotNull:\n",
        "        df.dropna(subset=[col], inplace=True)\n",
        "        \n",
        "    df = df.replace(r'\\r','', regex=True) \n",
        "    df_obj = df.select_dtypes('object')\n",
        "    df[df_obj.columns] = df_obj.apply(lambda x: x.str.strip())\n",
        "    app_log(2,\"Carregando {} - {} linhas\".format(arq[5:-4],df.shape[0]))\n",
        "    df.to_sql(arq[5:-4],conn,if_exists='append',index=False)\n",
        "\n",
        "app_log(1,\"Tabelas Fato\")\n",
        "for arq in filter(lambda file: \"Fact\" in file,dir_list):\n",
        "    cursor = conn.execute(\"select * from {}\".format(arq[5:-4]))\n",
        "    colunas = [description[0] for description in cursor.description]\n",
        "    columnsQuery = cursor.execute(f\"pragma table_info('{arq[5:-4]}')\")\n",
        "    columnInfos = cursor.fetchall()\n",
        "    columnsNotNull = [item[1] for item in columnInfos if item[3] == 1]\n",
        "\n",
        "    df = pd.read_csv(arq,sep=\"|\",\n",
        "                     encoding=\"utf16\",header=None,names=colunas,lineterminator ='\\n')\n",
        "    for col in columnsNotNull:\n",
        "        df.dropna(subset=[col], inplace=True)\n",
        "    df = df.replace(r'\\r','', regex=True) \n",
        "    df_obj = df.select_dtypes('object')\n",
        "    df[df_obj.columns] = df_obj.apply(lambda x: x.str.strip())\n",
        "\n",
        "    app_log(2,\"Carregando {} - {} linhas\".format(arq[5:-4],df.shape[0]))\n",
        "    df.to_sql(arq[5:-4],conn,if_exists='append',index=False)\n",
        "\n",
        "app_log(1,\"Demais Tabelas \")\n",
        "for arq in filter(lambda file: \"Fact\" not in file and \"Dim\" not in file ,dir_list):\n",
        "    try:\n",
        "        cursor = conn.execute(\"select * from {}\".format(arq[5:-4]))\n",
        "        colunas = [description[0] for description in cursor.description]\n",
        "        columnsQuery = cursor.execute(f\"pragma table_info('{arq[5:-4]}')\")\n",
        "        columnInfos = cursor.fetchall()\n",
        "        columnsNotNull = [item[1] for item in columnInfos if item[3] == 1]\n",
        "\n",
        "        df = pd.read_csv(arq,sep=\"|\",\n",
        "                        encoding=\"utf16\",header=None,names=colunas,lineterminator ='\\n')\n",
        "        for col in columnsNotNull:\n",
        "            df.dropna(subset=[col], inplace=True)\n",
        "        df = df.replace(r'\\r','', regex=True) \n",
        "        df_obj = df.select_dtypes('object')\n",
        "        df[df_obj.columns] = df_obj.apply(lambda x: x.str.strip())\n",
        "    \n",
        "        df = df.replace(r'\\r','', regex=True) \n",
        "        df_obj = df.select_dtypes('object')\n",
        "        df = df.apply(lambda x: x.str.strip(),axis=1)\n",
        "        app_log(2,\"Carregando {} - {} linhas\".format(arq[5:-4],df.shape[0]))\n",
        "        df.to_sql(arq[5:-4],conn,if_exists='append',index=False)\n",
        "    except:\n",
        "        df = pd.read_csv(arq,sep=\"|\",\n",
        "                        encoding=\"utf16\",header=None,lineterminator ='\\n',\n",
        "                        keep_default_na=False)\n",
        "        df = df.replace(r'\\r','', regex=True) \n",
        "        df_obj = df.select_dtypes('object')\n",
        "        df[df_obj.columns] = df_obj.apply(lambda x: x.str.strip())\n",
        "        app_log(2,\"Carregando {} - {} linhas\".format(arq[5:-4],df.shape[0]))\n",
        "        df.to_sql(arq[5:-4],conn,if_exists='append',index=False)\n",
        "\n",
        "conn.close()"
      ]
    },
    {
      "cell_type": "code",
      "execution_count": 5,
      "metadata": {},
      "outputs": [
        {
          "data": {
            "text/html": [
              "<div>\n",
              "<style scoped>\n",
              "    .dataframe tbody tr th:only-of-type {\n",
              "        vertical-align: middle;\n",
              "    }\n",
              "\n",
              "    .dataframe tbody tr th {\n",
              "        vertical-align: top;\n",
              "    }\n",
              "\n",
              "    .dataframe thead th {\n",
              "        text-align: right;\n",
              "    }\n",
              "</style>\n",
              "<table border=\"1\" class=\"dataframe\">\n",
              "  <thead>\n",
              "    <tr style=\"text-align: right;\">\n",
              "      <th></th>\n",
              "      <th>Class</th>\n",
              "    </tr>\n",
              "  </thead>\n",
              "  <tbody>\n",
              "    <tr>\n",
              "      <th>0</th>\n",
              "      <td>None</td>\n",
              "    </tr>\n",
              "    <tr>\n",
              "      <th>1</th>\n",
              "      <td>H</td>\n",
              "    </tr>\n",
              "    <tr>\n",
              "      <th>2</th>\n",
              "      <td>L</td>\n",
              "    </tr>\n",
              "    <tr>\n",
              "      <th>3</th>\n",
              "      <td>M</td>\n",
              "    </tr>\n",
              "  </tbody>\n",
              "</table>\n",
              "</div>"
            ],
            "text/plain": [
              "  Class\n",
              "0  None\n",
              "1     H\n",
              "2     L\n",
              "3     M"
            ]
          },
          "execution_count": 5,
          "metadata": {},
          "output_type": "execute_result"
        }
      ],
      "source": [
        "conn = sqlite3.connect(\"database\\db\\dbo.db\")\n",
        "sql_query = \"\"\"SELECT distinct Class FROM DimProduct;\"\"\"\n",
        "df = pd.read_sql(sql_query,conn)\n",
        "conn.close()\n",
        "df"
      ]
    },
    {
      "cell_type": "code",
      "execution_count": 6,
      "metadata": {},
      "outputs": [],
      "source": [
        "a = df.Class.str.strip()"
      ]
    },
    {
      "cell_type": "code",
      "execution_count": 7,
      "metadata": {},
      "outputs": [
        {
          "data": {
            "text/plain": [
              "array([None, 'H', 'L', 'M'], dtype=object)"
            ]
          },
          "execution_count": 7,
          "metadata": {},
          "output_type": "execute_result"
        }
      ],
      "source": [
        "a.values"
      ]
    },
    {
      "cell_type": "code",
      "execution_count": null,
      "metadata": {},
      "outputs": [],
      "source": []
    }
  ],
  "metadata": {
    "colab": {
      "provenance": []
    },
    "kernelspec": {
      "display_name": "Python 3",
      "name": "python3"
    },
    "language_info": {
      "codemirror_mode": {
        "name": "ipython",
        "version": 3
      },
      "file_extension": ".py",
      "mimetype": "text/x-python",
      "name": "python",
      "nbconvert_exporter": "python",
      "pygments_lexer": "ipython3",
      "version": "3.9.16"
    }
  },
  "nbformat": 4,
  "nbformat_minor": 0
}
