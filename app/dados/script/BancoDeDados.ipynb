{
  "cells": [
    {
      "cell_type": "code",
      "execution_count": 4,
      "metadata": {},
      "outputs": [],
      "source": [
        "import pandas as pd\n",
        "import numpy as np\n",
        "import sqlite3\n",
        "import os\n",
        "import glob\n",
        "from datetime import datetime\n",
        "from IPython.display import clear_output\n",
        "import urllib.request\n",
        "import zipfile\n",
        "import os.path as path\n",
        "\n"
      ]
    },
    {
      "cell_type": "code",
      "execution_count": null,
      "metadata": {},
      "outputs": [],
      "source": [
        "import urllib.request\n",
        "url = r\"https://github.com/Microsoft/sql-server-samples/releases/download/adventureworks/AdventureWorksDW-data-warehouse-install-script.zip\"\n",
        "print (\"download start!\")\n",
        "filename, headers = urllib.request.urlretrieve(url, filename=r\"C:\\Users\\roger\\Documents\\trabalhofinalPECE\\app\\dados\\rawfiles\\AdventureWorksDW.zip\")\n",
        "with open(filename, 'rb') as fileobj:\n",
        "    z = zipfile.ZipFile(fileobj)\n",
        "    z.extractall(r\"C:\\Users\\roger\\Documents\\trabalhofinalPECE\\app\\dados\\rawfiles\")\n",
        "    z.close()\n",
        "os.remove(filename)\n",
        "print (\"download complete!\")\n",
        "print (\"download file location: \", filename)\n",
        "print (\"download headers: \", headers)"
      ]
    },
    {
      "cell_type": "code",
      "execution_count": null,
      "metadata": {},
      "outputs": [],
      "source": [
        "def app_log(nv,msg):\n",
        "    print(\" \"*nv + \"[{}] INFO - {}\".format(datetime.now().strftime(\"%d/%m/%Y %H:%M:%S\"),msg))\n",
        "    "
      ]
    },
    {
      "cell_type": "code",
      "execution_count": null,
      "metadata": {},
      "outputs": [],
      "source": [
        "\n",
        "app_log(0,\"Limpando ambiente\")\n",
        "\n",
        "if not os.path.exists(\"database\\db\"):\n",
        "    os.makedirs(\"database\\db\")\n",
        "\n",
        "if os.path.exists(\"database\\db\\dbo.db\"):\n",
        "  os.remove(\"database\\db\\dbo.db\")\n",
        "\n",
        "app_log(0,\"Criando banco de dados\")\n",
        "conn = sqlite3.connect(\"database\\db\\dbo.db\")\n",
        "conn.execute(\"ATTACH DATABASE 'database\\db\\dbo.db' AS 'dbo';\")\n",
        "cur  = conn.cursor()\n",
        "\n",
        "app_log(0,\"Criando tabelas no banco de dados\")\n",
        "sql_file = open(r\"database\\ddl\\create_tables.sql\",encoding=\"ISO-8859-1\")\n",
        "sql_as_string = sql_file.read()\n",
        "sql_file.close()\n",
        "cur.executescript(sql_as_string)\n",
        "\n",
        "conn.commit()\n",
        "conn.close()\n"
      ]
    },
    {
      "cell_type": "code",
      "execution_count": null,
      "metadata": {},
      "outputs": [],
      "source": [
        "conn = sqlite3.connect(\"database\\db\\dbo.db\")\n",
        "dir_list = glob.glob('data/*.csv')\n",
        "app_log(0,\"Carga de dados no banco de dados\")\n",
        "app_log(1,\"Tabelas Dimensao \")\n",
        "for arq in filter(lambda file: \"Dim\" in file,dir_list):\n",
        "    cursor = conn.execute(\"select * from {}\".format(arq[5:-4]))\n",
        "    colunas = [description[0] for description in cursor.description]\n",
        "    columnsQuery = cursor.execute(f\"pragma table_info('{arq[5:-4]}')\")\n",
        "    columnInfos = cursor.fetchall()\n",
        "    columnsNotNull = [item[1] for item in columnInfos if item[3] == 1]\n",
        "\n",
        "    df = pd.read_csv(arq,sep=\"|\",\n",
        "                     encoding=\"utf16\",header=None,names=colunas,lineterminator ='\\n')\n",
        "    for col in columnsNotNull:\n",
        "        df.dropna(subset=[col], inplace=True)\n",
        "        \n",
        "    df = df.replace(r'\\r','', regex=True) \n",
        "    df_obj = df.select_dtypes('object')\n",
        "    df[df_obj.columns] = df_obj.apply(lambda x: x.str.strip())\n",
        "    app_log(2,\"Carregando {} - {} linhas\".format(arq[5:-4],df.shape[0]))\n",
        "    df.to_sql(arq[5:-4],conn,if_exists='append',index=False)\n",
        "\n",
        "app_log(1,\"Tabelas Fato\")\n",
        "for arq in filter(lambda file: \"Fact\" in file,dir_list):\n",
        "    cursor = conn.execute(\"select * from {}\".format(arq[5:-4]))\n",
        "    colunas = [description[0] for description in cursor.description]\n",
        "    columnsQuery = cursor.execute(f\"pragma table_info('{arq[5:-4]}')\")\n",
        "    columnInfos = cursor.fetchall()\n",
        "    columnsNotNull = [item[1] for item in columnInfos if item[3] == 1]\n",
        "\n",
        "    df = pd.read_csv(arq,sep=\"|\",\n",
        "                     encoding=\"utf16\",header=None,names=colunas,lineterminator ='\\n')\n",
        "    for col in columnsNotNull:\n",
        "        df.dropna(subset=[col], inplace=True)\n",
        "    df = df.replace(r'\\r','', regex=True) \n",
        "    df_obj = df.select_dtypes('object')\n",
        "    df[df_obj.columns] = df_obj.apply(lambda x: x.str.strip())\n",
        "\n",
        "    app_log(2,\"Carregando {} - {} linhas\".format(arq[5:-4],df.shape[0]))\n",
        "    df.to_sql(arq[5:-4],conn,if_exists='append',index=False)\n",
        "\n",
        "app_log(1,\"Demais Tabelas \")\n",
        "for arq in filter(lambda file: \"Fact\" not in file and \"Dim\" not in file ,dir_list):\n",
        "    try:\n",
        "        cursor = conn.execute(\"select * from {}\".format(arq[5:-4]))\n",
        "        colunas = [description[0] for description in cursor.description]\n",
        "        columnsQuery = cursor.execute(f\"pragma table_info('{arq[5:-4]}')\")\n",
        "        columnInfos = cursor.fetchall()\n",
        "        columnsNotNull = [item[1] for item in columnInfos if item[3] == 1]\n",
        "\n",
        "        df = pd.read_csv(arq,sep=\"|\",\n",
        "                        encoding=\"utf16\",header=None,names=colunas,lineterminator ='\\n')\n",
        "        for col in columnsNotNull:\n",
        "            df.dropna(subset=[col], inplace=True)\n",
        "        df = df.replace(r'\\r','', regex=True) \n",
        "        df_obj = df.select_dtypes('object')\n",
        "        df[df_obj.columns] = df_obj.apply(lambda x: x.str.strip())\n",
        "    \n",
        "        df = df.replace(r'\\r','', regex=True) \n",
        "        df_obj = df.select_dtypes('object')\n",
        "        df = df.apply(lambda x: x.str.strip(),axis=1)\n",
        "        app_log(2,\"Carregando {} - {} linhas\".format(arq[5:-4],df.shape[0]))\n",
        "        df.to_sql(arq[5:-4],conn,if_exists='append',index=False)\n",
        "    except:\n",
        "        df = pd.read_csv(arq,sep=\"|\",\n",
        "                        encoding=\"utf16\",header=None,lineterminator ='\\n',\n",
        "                        keep_default_na=False)\n",
        "        df = df.replace(r'\\r','', regex=True) \n",
        "        df_obj = df.select_dtypes('object')\n",
        "        df[df_obj.columns] = df_obj.apply(lambda x: x.str.strip())\n",
        "        app_log(2,\"Carregando {} - {} linhas\".format(arq[5:-4],df.shape[0]))\n",
        "        df.to_sql(arq[5:-4],conn,if_exists='append',index=False)\n",
        "\n",
        "conn.close()"
      ]
    },
    {
      "cell_type": "code",
      "execution_count": null,
      "metadata": {},
      "outputs": [],
      "source": [
        "conn = sqlite3.connect(\"database\\db\\dbo.db\")\n",
        "sql_query = \"\"\"SELECT distinct Class FROM DimProduct;\"\"\"\n",
        "df = pd.read_sql(sql_query,conn)\n",
        "conn.close()\n",
        "df"
      ]
    },
    {
      "cell_type": "code",
      "execution_count": null,
      "metadata": {},
      "outputs": [],
      "source": [
        "a = df.Class.str.strip()"
      ]
    },
    {
      "cell_type": "code",
      "execution_count": null,
      "metadata": {},
      "outputs": [],
      "source": [
        "a.values"
      ]
    },
    {
      "cell_type": "code",
      "execution_count": null,
      "metadata": {},
      "outputs": [],
      "source": []
    }
  ],
  "metadata": {
    "colab": {
      "provenance": []
    },
    "kernelspec": {
      "display_name": "Python 3",
      "name": "python3"
    },
    "language_info": {
      "codemirror_mode": {
        "name": "ipython",
        "version": 3
      },
      "file_extension": ".py",
      "mimetype": "text/x-python",
      "name": "python",
      "nbconvert_exporter": "python",
      "pygments_lexer": "ipython3",
      "version": "3.10.9"
    }
  },
  "nbformat": 4,
  "nbformat_minor": 0
}
