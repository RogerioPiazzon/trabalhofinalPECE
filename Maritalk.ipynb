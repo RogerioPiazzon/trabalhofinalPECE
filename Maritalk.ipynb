{
 "cells": [
  {
   "cell_type": "code",
   "execution_count": 1,
   "metadata": {},
   "outputs": [
    {
     "name": "stdout",
     "output_type": "stream",
     "text": [
      "Requirement already satisfied: maritalk in c:\\users\\roger\\anaconda3\\envs\\tf-gpu\\lib\\site-packages (0.1.5)\n",
      "Requirement already satisfied: requests in c:\\users\\roger\\anaconda3\\envs\\tf-gpu\\lib\\site-packages (from maritalk) (2.31.0)\n",
      "Requirement already satisfied: tqdm in c:\\users\\roger\\anaconda3\\envs\\tf-gpu\\lib\\site-packages (from maritalk) (4.65.0)\n",
      "Requirement already satisfied: charset-normalizer<4,>=2 in c:\\users\\roger\\anaconda3\\envs\\tf-gpu\\lib\\site-packages (from requests->maritalk) (3.1.0)\n",
      "Requirement already satisfied: idna<4,>=2.5 in c:\\users\\roger\\anaconda3\\envs\\tf-gpu\\lib\\site-packages (from requests->maritalk) (3.4)\n",
      "Requirement already satisfied: urllib3<3,>=1.21.1 in c:\\users\\roger\\anaconda3\\envs\\tf-gpu\\lib\\site-packages (from requests->maritalk) (1.26.16)\n",
      "Requirement already satisfied: certifi>=2017.4.17 in c:\\users\\roger\\anaconda3\\envs\\tf-gpu\\lib\\site-packages (from requests->maritalk) (2023.5.7)\n",
      "Requirement already satisfied: colorama in c:\\users\\roger\\anaconda3\\envs\\tf-gpu\\lib\\site-packages (from tqdm->maritalk) (0.4.6)\n"
     ]
    },
    {
     "name": "stderr",
     "output_type": "stream",
     "text": [
      "WARNING: Ignoring invalid distribution -rotobuf (c:\\users\\roger\\anaconda3\\envs\\tf-gpu\\lib\\site-packages)\n",
      "WARNING: Ignoring invalid distribution -rotobuf (c:\\users\\roger\\anaconda3\\envs\\tf-gpu\\lib\\site-packages)\n"
     ]
    }
   ],
   "source": [
    "!pip install maritalk"
   ]
  },
  {
   "cell_type": "code",
   "execution_count": 2,
   "metadata": {},
   "outputs": [
    {
     "ename": "TypeError",
     "evalue": "download() missing 2 required positional arguments: 'bin_path' and 'dependencies'",
     "output_type": "error",
     "traceback": [
      "\u001b[1;31m---------------------------------------------------------------------------\u001b[0m",
      "\u001b[1;31mTypeError\u001b[0m                                 Traceback (most recent call last)",
      "\u001b[1;32mUntitled-4.ipynb Cell 2\u001b[0m line \u001b[0;36m8\n\u001b[0;32m      <a href='vscode-notebook-cell:Untitled-4.ipynb?jupyter-notebook#W1sdW50aXRsZWQ%3D?line=2'>3</a>\u001b[0m client \u001b[39m=\u001b[39m maritalk\u001b[39m.\u001b[39mMariTalkLocal()\n\u001b[0;32m      <a href='vscode-notebook-cell:Untitled-4.ipynb?jupyter-notebook#W1sdW50aXRsZWQ%3D?line=4'>5</a>\u001b[0m \u001b[39m# Iniciando o servidor com uma chave de licença especificada. O executável será baixado em ~/bin/maritalk\u001b[39;00m\n\u001b[0;32m      <a href='vscode-notebook-cell:Untitled-4.ipynb?jupyter-notebook#W1sdW50aXRsZWQ%3D?line=5'>6</a>\u001b[0m \n\u001b[0;32m      <a href='vscode-notebook-cell:Untitled-4.ipynb?jupyter-notebook#W1sdW50aXRsZWQ%3D?line=6'>7</a>\u001b[0m \u001b[39m# client.start_server(license='CLKZL-FSFWS-LDLUR-CTKVB')\u001b[39;00m\n\u001b[1;32m----> <a href='vscode-notebook-cell:Untitled-4.ipynb?jupyter-notebook#W1sdW50aXRsZWQ%3D?line=7'>8</a>\u001b[0m client\u001b[39m.\u001b[39;49mdownload(license\u001b[39m=\u001b[39;49m\u001b[39m'\u001b[39;49m\u001b[39mCLKZL-FSFWS-LDLUR-CTKVB\u001b[39;49m\u001b[39m'\u001b[39;49m)\n",
      "\u001b[1;31mTypeError\u001b[0m: download() missing 2 required positional arguments: 'bin_path' and 'dependencies'"
     ]
    }
   ],
   "source": [
    "import maritalk\n",
    "\n",
    "client = maritalk.MariTalkLocal()\n",
    "\n",
    "# Iniciando o servidor com uma chave de licença especificada. O executável será baixado em ~/bin/maritalk\n",
    "\n",
    "# client.start_server(license='CLKZL-FSFWS-LDLUR-CTKVB')\n",
    "client.download(license='CLKZL-FSFWS-LDLUR-CTKVB',bin_path=r\"C:\\Users\\roger\\Documents\\trabalhofinalPECE\\binary\",dependencies=)"
   ]
  },
  {
   "cell_type": "code",
   "execution_count": null,
   "metadata": {},
   "outputs": [],
   "source": []
  }
 ],
 "metadata": {
  "kernelspec": {
   "display_name": "tf-gpu",
   "language": "python",
   "name": "python3"
  },
  "language_info": {
   "codemirror_mode": {
    "name": "ipython",
    "version": 3
   },
   "file_extension": ".py",
   "mimetype": "text/x-python",
   "name": "python",
   "nbconvert_exporter": "python",
   "pygments_lexer": "ipython3",
   "version": "3.10.9"
  }
 },
 "nbformat": 4,
 "nbformat_minor": 2
}
