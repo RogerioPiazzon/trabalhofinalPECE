{
 "cells": [
  {
   "cell_type": "code",
   "execution_count": 15,
   "metadata": {},
   "outputs": [],
   "source": [
    "import pandas as pd\n",
    "import numpy as np\n",
    "import sqlite3\n",
    "import re\n"
   ]
  },
  {
   "cell_type": "code",
   "execution_count": 16,
   "metadata": {},
   "outputs": [],
   "source": [
    "sql_file = open(r\"database\\ddl\\create_tables.sql\",encoding=\"ISO-8859-1\")\n",
    "sql_as_string = sql_file.read()\n",
    "sql_file.close()"
   ]
  },
  {
   "cell_type": "markdown",
   "metadata": {},
   "source": []
  },
  {
   "cell_type": "code",
   "execution_count": 17,
   "metadata": {},
   "outputs": [],
   "source": [
    "ddl_tables = dict()\n",
    "relation_tables = dict()\n",
    "\n",
    "regex_create_table = r\"\\bCREATE\\s+TABLE\\s+\\[\\w+\\]\\.\\[\\w+\\]\\s*\\(\\s*([^;]+)\\s*\\);\"\n",
    "regex_name_table = r\"\\bCREATE\\s+TABLE\\s+\\[(\\w+)\\]\\.\\[(\\w+)\\]\"\n",
    "regex_relations = r'FOREIGN KEY\\((\\w+)\\)\\s+REFERENCES\\s+(\\w+)\\((\\w+)\\)'\n",
    "\n",
    "matches = re.finditer(regex_create_table, sql_as_string)\n",
    "\n",
    "regex_name_table = r\"\\bCREATE\\s+TABLE\\s+\\[(\\w+)\\]\\.\\[(\\w+)\\]\"\n",
    "\n",
    "for matche in matches:\n",
    "\tlist_relations = list()\n",
    "\n",
    "\tname_table = re.search(regex_name_table, matche.group())\n",
    "\trelations = re.finditer(regex_relations, matche.group())\n",
    "\tfor relation in relations:\n",
    "\t\tlist_relations.append([{name_table.group(2):relation.group(1)},{relation.group(2):relation.group(3)}])\n",
    "\n",
    "     \n",
    "\tddl_tables[name_table.group(2)]  = matche.group()\n",
    "\trelation_tables[name_table.group(2)] = list_relations\n"
   ]
  },
  {
   "cell_type": "code",
   "execution_count": 18,
   "metadata": {},
   "outputs": [],
   "source": [
    "file = r\"C:\\Users\\roger\\Documents\\trabalhofinalPECE\\Metadados_preenchido.xlsx\""
   ]
  },
  {
   "cell_type": "code",
   "execution_count": 19,
   "metadata": {},
   "outputs": [],
   "source": [
    "df = pd.read_excel(file,sheet_name=\"Resumo das tabelas\")"
   ]
  },
  {
   "cell_type": "code",
   "execution_count": 20,
   "metadata": {},
   "outputs": [],
   "source": [
    "def get_info_column(file,sheet):\n",
    "    output = dict()\n",
    "    df_table = pd.read_excel(file,sheet_name=sheet[:31])\n",
    "    for i,row in df_table.iterrows():\n",
    "        output.update({row['Campo']:{\"Descrição\":row['Descrição']}})\n",
    "\n",
    "    return output\n"
   ]
  },
  {
   "cell_type": "code",
   "execution_count": 21,
   "metadata": {},
   "outputs": [],
   "source": [
    "\n",
    "conn = sqlite3.connect(\"database\\db\\dbo.db\")\n",
    "metadata_json = dict()\n",
    "for i,row in df.iterrows():\n",
    "    metadata_json.update({row[\"Nome\"]:{nm:vl if vl else \"\" for nm,vl in row.items() if nm != \"Nome\"} })\n",
    "    metadata_json[row[\"Nome\"]].update({\"Colunas\":get_info_column(file,row[\"Nome\"])})\n",
    "    metadata_json[row[\"Nome\"]].update({\"DDL\":ddl_tables.get(row[\"Nome\"],'')})\n",
    "    metadata_json[row[\"Nome\"]].update({\"Relações\":relation_tables.get(row[\"Nome\"],'')})\n",
    "\n",
    "    sql_query = f\"\"\"SELECT * FROM {row['Nome']};\"\"\"\n",
    "    df_by_sql = pd.read_sql(sql_query,conn)\n",
    "    desc = df_by_sql.describe(include='all')\n",
    "    only_unique = desc.loc[desc.index.isin([\"unique\"])].T.reset_index()\n",
    "    lista_unique = only_unique.loc[only_unique['unique']<=5,'index'].values.tolist()\n",
    "    if len(lista_unique)>1:\n",
    "        for coluna in lista_unique:\n",
    "            unique_by_col_sql = pd.read_sql(f\"\"\"SELECT DISTINCT {coluna} FROM {row[\"Nome\"]}\"\"\",conn)\n",
    "            metadata_json[row[\"Nome\"]]['Colunas'][coluna].update({\"Valores Possíveis\":unique_by_col_sql[coluna].values.tolist()}) \n",
    "\n",
    "    "
   ]
  },
  {
   "cell_type": "code",
   "execution_count": 22,
   "metadata": {},
   "outputs": [],
   "source": [
    "\n",
    "import json \n",
    "# Convert and write JSON object to file\n",
    "with open(\"dicionario_dados.json\", \"w\") as outfile: \n",
    "    json.dump(metadata_json, outfile)"
   ]
  },
  {
   "cell_type": "code",
   "execution_count": 23,
   "metadata": {},
   "outputs": [],
   "source": [
    "file = r\"C:\\Users\\roger\\Documents\\trabalhofinalPECE\\querys.xlsx\"\n",
    "df = pd.read_excel(file,sheet_name='Planilha1')\n",
    "df_to_use = df.loc[:,[\"Question\",\"NEW INTENT\",\"TABLE\",\"COMPLEXIDADE\"]].dropna()\n",
    "data=df_to_use.rename(columns = {'NEW INTENT': 'label', 'Question': 'text','TABLE':'tables_related'}, inplace = False)"
   ]
  },
  {
   "cell_type": "code",
   "execution_count": 24,
   "metadata": {},
   "outputs": [
    {
     "data": {
      "text/plain": [
       "[{'label': 'CARGO_DO_FUNCIONARIO',\n",
       "  'tables_related': 'DimEmployee',\n",
       "  'COMPLEXIDADE': 1},\n",
       " {'label': 'DEPARTAMENTO_DO_FUNCIONARIO',\n",
       "  'tables_related': 'DimEmployee',\n",
       "  'COMPLEXIDADE': 1},\n",
       " {'label': 'PRIMEIRA_DTCOMPRA_CLIENTE',\n",
       "  'tables_related': 'DimCustomer',\n",
       "  'COMPLEXIDADE': 1},\n",
       " {'label': 'ULTIMA_DTCOMPRA_CLIENTE',\n",
       "  'tables_related': 'FactInternetSales, DimDate, DimCustomer',\n",
       "  'COMPLEXIDADE': 3},\n",
       " {'label': 'INFORMACAO_PESSOAL_CLIENTE',\n",
       "  'tables_related': 'DimCustomer',\n",
       "  'COMPLEXIDADE': 1},\n",
       " {'label': 'LOCALIZAR_CLIENTE_POR_INFO_PESSOAIS',\n",
       "  'tables_related': 'DimCustomer',\n",
       "  'COMPLEXIDADE': 2},\n",
       " {'label': 'LOCALIZAR_FUNCIONARIO',\n",
       "  'tables_related': 'DimEmployee',\n",
       "  'COMPLEXIDADE': 2},\n",
       " {'label': 'LOCALIZAR_PRODUTOS_PELA_PRODUCAO',\n",
       "  'tables_related': 'DimProduct',\n",
       "  'COMPLEXIDADE': 2},\n",
       " {'label': 'LOCALIZAR_PRODUTOS_PELO_CUSTO',\n",
       "  'tables_related': 'DimProduct',\n",
       "  'COMPLEXIDADE': 2},\n",
       " {'label': 'METRICAS_DE_CUSTO_DE_PRODUTOS',\n",
       "  'tables_related': 'DimProduct',\n",
       "  'COMPLEXIDADE': 2},\n",
       " {'label': 'METRICAS_DE_PRODUCAO_DE_PRODUTOS',\n",
       "  'tables_related': 'DimProduct',\n",
       "  'COMPLEXIDADE': 2},\n",
       " {'label': 'METRICAS_DE_PRODUTOS_POR_CATEGORIA',\n",
       "  'tables_related': 'DimProduct,DimProductCategory,DimProductSubcategory',\n",
       "  'COMPLEXIDADE': 3},\n",
       " {'label': 'METRICAS_DO_QUADRO_DE_FUNCIONARIOS',\n",
       "  'tables_related': 'DimEmployee',\n",
       "  'COMPLEXIDADE': 2},\n",
       " {'label': 'METRICAS_DOS_CLIENTES',\n",
       "  'tables_related': 'DimCustomer',\n",
       "  'COMPLEXIDADE': 2},\n",
       " {'label': 'MOVIMENTACAO_QUADRO_DE_FUNCIONARIOS',\n",
       "  'tables_related': 'DimEmployee',\n",
       "  'COMPLEXIDADE': 2},\n",
       " {'label': 'QUANTIDADE_DE_DEPARTAMENTOS',\n",
       "  'tables_related': 'DimEmployee',\n",
       "  'COMPLEXIDADE': 2},\n",
       " {'label': 'TEMPO_DE_CASA_FUNCIONARIO',\n",
       "  'tables_related': 'DimEmployee',\n",
       "  'COMPLEXIDADE': 4}]"
      ]
     },
     "execution_count": 24,
     "metadata": {},
     "output_type": "execute_result"
    }
   ],
   "source": [
    "data[[\"label\",\"tables_related\",\"COMPLEXIDADE\"]].drop_duplicates().to_dict(\"records\")"
   ]
  },
  {
   "cell_type": "code",
   "execution_count": 25,
   "metadata": {},
   "outputs": [],
   "source": [
    "dict_output = dict()\n",
    "for i,row in data[[\"label\",\"tables_related\"]].drop_duplicates().iterrows():\n",
    "    dict_output.update({row['label']:[table.replace(' ','') for table in row['tables_related'].split(\",\")]})\n"
   ]
  },
  {
   "cell_type": "code",
   "execution_count": 26,
   "metadata": {},
   "outputs": [
    {
     "data": {
      "text/plain": [
       "{'CARGO_DO_FUNCIONARIO': ['DimEmployee'],\n",
       " 'DEPARTAMENTO_DO_FUNCIONARIO': ['DimEmployee'],\n",
       " 'PRIMEIRA_DTCOMPRA_CLIENTE': ['DimCustomer'],\n",
       " 'ULTIMA_DTCOMPRA_CLIENTE': ['FactInternetSales', 'DimDate', 'DimCustomer'],\n",
       " 'INFORMACAO_PESSOAL_CLIENTE': ['DimCustomer'],\n",
       " 'LOCALIZAR_CLIENTE_POR_INFO_PESSOAIS': ['DimCustomer'],\n",
       " 'LOCALIZAR_FUNCIONARIO': ['DimEmployee'],\n",
       " 'LOCALIZAR_PRODUTOS_PELA_PRODUCAO': ['DimProduct'],\n",
       " 'LOCALIZAR_PRODUTOS_PELO_CUSTO': ['DimProduct'],\n",
       " 'METRICAS_DE_CUSTO_DE_PRODUTOS': ['DimProduct'],\n",
       " 'METRICAS_DE_PRODUCAO_DE_PRODUTOS': ['DimProduct'],\n",
       " 'METRICAS_DE_PRODUTOS_POR_CATEGORIA': ['DimProduct',\n",
       "  'DimProductCategory',\n",
       "  'DimProductSubcategory'],\n",
       " 'METRICAS_DO_QUADRO_DE_FUNCIONARIOS': ['DimEmployee'],\n",
       " 'METRICAS_DOS_CLIENTES': ['DimCustomer'],\n",
       " 'MOVIMENTACAO_QUADRO_DE_FUNCIONARIOS': ['DimEmployee'],\n",
       " 'QUANTIDADE_DE_DEPARTAMENTOS': ['DimEmployee'],\n",
       " 'TEMPO_DE_CASA_FUNCIONARIO': ['DimEmployee']}"
      ]
     },
     "execution_count": 26,
     "metadata": {},
     "output_type": "execute_result"
    }
   ],
   "source": [
    "dict_output"
   ]
  },
  {
   "cell_type": "code",
   "execution_count": 27,
   "metadata": {},
   "outputs": [],
   "source": [
    "import json \n",
    "# Convert and write JSON object to file\n",
    "with open(\"AdventureQI.json\", \"w\") as outfile: \n",
    "    json.dump(dict_output, outfile)"
   ]
  },
  {
   "cell_type": "code",
   "execution_count": 28,
   "metadata": {},
   "outputs": [
    {
     "data": {
      "text/plain": [
       "{'CARGO_DO_FUNCIONARIO': ['DimEmployee'],\n",
       " 'DEPARTAMENTO_DO_FUNCIONARIO': ['DimEmployee'],\n",
       " 'PRIMEIRA_DTCOMPRA_CLIENTE': ['DimCustomer'],\n",
       " 'ULTIMA_DTCOMPRA_CLIENTE': ['FactInternetSales', 'DimDate', 'DimCustomer'],\n",
       " 'INFORMACAO_PESSOAL_CLIENTE': ['DimCustomer'],\n",
       " 'LOCALIZAR_CLIENTE_POR_INFO_PESSOAIS': ['DimCustomer'],\n",
       " 'LOCALIZAR_FUNCIONARIO': ['DimEmployee'],\n",
       " 'LOCALIZAR_PRODUTOS_PELA_PRODUCAO': ['DimProduct'],\n",
       " 'LOCALIZAR_PRODUTOS_PELO_CUSTO': ['DimProduct'],\n",
       " 'METRICAS_DE_CUSTO_DE_PRODUTOS': ['DimProduct'],\n",
       " 'METRICAS_DE_PRODUCAO_DE_PRODUTOS': ['DimProduct'],\n",
       " 'METRICAS_DE_PRODUTOS_POR_CATEGORIA': ['DimProduct',\n",
       "  'DimProductCategory',\n",
       "  'DimProductSubcategory'],\n",
       " 'METRICAS_DO_QUADRO_DE_FUNCIONARIOS': ['DimEmployee'],\n",
       " 'METRICAS_DOS_CLIENTES': ['DimCustomer'],\n",
       " 'MOVIMENTACAO_QUADRO_DE_FUNCIONARIOS': ['DimEmployee'],\n",
       " 'QUANTIDADE_DE_DEPARTAMENTOS': ['DimEmployee'],\n",
       " 'TEMPO_DE_CASA_FUNCIONARIO': ['DimEmployee']}"
      ]
     },
     "execution_count": 28,
     "metadata": {},
     "output_type": "execute_result"
    }
   ],
   "source": [
    "dict_output"
   ]
  },
  {
   "cell_type": "code",
   "execution_count": null,
   "metadata": {},
   "outputs": [],
   "source": []
  },
  {
   "cell_type": "code",
   "execution_count": null,
   "metadata": {},
   "outputs": [],
   "source": []
  }
 ],
 "metadata": {
  "kernelspec": {
   "display_name": "base",
   "language": "python",
   "name": "python3"
  },
  "language_info": {
   "codemirror_mode": {
    "name": "ipython",
    "version": 3
   },
   "file_extension": ".py",
   "mimetype": "text/x-python",
   "name": "python",
   "nbconvert_exporter": "python",
   "pygments_lexer": "ipython3",
   "version": "3.10.9"
  }
 },
 "nbformat": 4,
 "nbformat_minor": 2
}
